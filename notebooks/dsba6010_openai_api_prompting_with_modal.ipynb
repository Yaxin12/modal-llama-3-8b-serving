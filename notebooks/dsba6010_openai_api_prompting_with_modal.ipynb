{
  "cells": [
    {
      "cell_type": "markdown",
      "metadata": {
        "colab_type": "text",
        "id": "view-in-github"
      },
      "source": [
        "<a href=\"https://colab.research.google.com/github/dsba6010-llm-applications/modal-llama-3-8b-serving/blob/main/notebooks/dsba6010_openai_api_prompting_with_modal.ipynb\" target=\"_parent\"><img src=\"https://colab.research.google.com/assets/colab-badge.svg\" alt=\"Open In Colab\"/></a>"
      ]
    },
    {
      "cell_type": "code",
      "execution_count": 1,
      "metadata": {
        "colab": {
          "base_uri": "https://localhost:8080/"
        },
        "id": "riDjpPY84fmi",
        "outputId": "a35d4812-9e18-4b44-d062-7c801f32fed5"
      },
      "outputs": [
        {
          "name": "stdout",
          "output_type": "stream",
          "text": [
            "Requirement already satisfied: openai in d:\\cs\\modal-llama-3-8b-serving\\venv\\lib\\site-packages (1.35.13)\n",
            "Requirement already satisfied: anyio<5,>=3.5.0 in d:\\cs\\modal-llama-3-8b-serving\\venv\\lib\\site-packages (from openai) (4.4.0)\n",
            "Requirement already satisfied: distro<2,>=1.7.0 in d:\\cs\\modal-llama-3-8b-serving\\venv\\lib\\site-packages (from openai) (1.9.0)\n",
            "Requirement already satisfied: httpx<1,>=0.23.0 in d:\\cs\\modal-llama-3-8b-serving\\venv\\lib\\site-packages (from openai) (0.27.0)\n",
            "Requirement already satisfied: pydantic<3,>=1.9.0 in d:\\cs\\modal-llama-3-8b-serving\\venv\\lib\\site-packages (from openai) (2.8.2)\n",
            "Requirement already satisfied: sniffio in d:\\cs\\modal-llama-3-8b-serving\\venv\\lib\\site-packages (from openai) (1.3.1)\n",
            "Requirement already satisfied: tqdm>4 in d:\\cs\\modal-llama-3-8b-serving\\venv\\lib\\site-packages (from openai) (4.66.5)\n",
            "Requirement already satisfied: typing-extensions<5,>=4.7 in d:\\cs\\modal-llama-3-8b-serving\\venv\\lib\\site-packages (from openai) (4.12.2)\n",
            "Requirement already satisfied: idna>=2.8 in d:\\cs\\modal-llama-3-8b-serving\\venv\\lib\\site-packages (from anyio<5,>=3.5.0->openai) (3.7)\n",
            "Requirement already satisfied: certifi in d:\\cs\\modal-llama-3-8b-serving\\venv\\lib\\site-packages (from httpx<1,>=0.23.0->openai) (2024.7.4)\n",
            "Requirement already satisfied: httpcore==1.* in d:\\cs\\modal-llama-3-8b-serving\\venv\\lib\\site-packages (from httpx<1,>=0.23.0->openai) (1.0.5)\n",
            "Requirement already satisfied: h11<0.15,>=0.13 in d:\\cs\\modal-llama-3-8b-serving\\venv\\lib\\site-packages (from httpcore==1.*->httpx<1,>=0.23.0->openai) (0.14.0)\n",
            "Requirement already satisfied: annotated-types>=0.4.0 in d:\\cs\\modal-llama-3-8b-serving\\venv\\lib\\site-packages (from pydantic<3,>=1.9.0->openai) (0.7.0)\n",
            "Requirement already satisfied: pydantic-core==2.20.1 in d:\\cs\\modal-llama-3-8b-serving\\venv\\lib\\site-packages (from pydantic<3,>=1.9.0->openai) (2.20.1)\n",
            "Requirement already satisfied: colorama in d:\\cs\\modal-llama-3-8b-serving\\venv\\lib\\site-packages (from tqdm>4->openai) (0.4.6)\n"
          ]
        }
      ],
      "source": [
        "!pip install openai"
      ]
    },
    {
      "cell_type": "markdown",
      "metadata": {
        "id": "nylKS_U36keK"
      },
      "source": [
        "To run this in Colab, you will need to set an API Key named `DSBA_LLAMA3_KEY` and `MODAL_BASE_URL`, which is the URL endpoint where the LLaMa 3 model is hosted. You will need to add `/v1/` to the `MODAL_BASE_URL` path so it will look like:\n",
        "\n",
        "```\n",
        "# MODAL_BASE_URL\n",
        "https://your-workspace-name--vllm-openai-compatible-serve.modal.run/v1/\n",
        "```\n",
        "\n",
        "\n",
        "\n",
        "If using the class API example, these will be provided to you. Otherwise you will need to get these from your Modal service.\n",
        "\n",
        "![](https://miro.medium.com/v2/resize:fit:1400/format:webp/1*5wEevNCOf80GTHwptPTB4g.png)\n",
        "\n",
        "As mentioned, I have hosted `LLaMa3-8B-Instruct` model that we'll use instead of OpenAI. The reason is this avoids individual costs on the API -- only cost to me for hosting on Modal.\n",
        "\n",
        "This hosted model will **not** be up indefinitely and only for class demo purposes.\n",
        "\n",
        "If you host your own model, be sure to destroy it when you're done or you'll be charged."
      ]
    },
    {
      "cell_type": "code",
      "execution_count": null,
      "metadata": {
        "id": "LiLY95O62dOS"
      },
      "outputs": [],
      "source": [
        "from openai import OpenAI\n",
        "from google.colab import userdata\n",
        "\n",
        "client = OpenAI(api_key=userdata.get(\"DSBA_LLAMA3_KEY\"))\n",
        "client.base_url = userdata.get(\"MODAL_BASE_URL\")\n",
        "model = \"/models/NousResearch/Meta-Llama-3-8B-Instruct\"\n",
        "\n",
        "messages = [\n",
        "    {\n",
        "        \"role\": \"system\",\n",
        "        \"content\": \"You are a poetic assistant, skilled in writing satirical doggerel with creative flair.\",\n",
        "    },\n",
        "    {\n",
        "        \"role\": \"user\",\n",
        "        \"content\": \"Compose a limerick about baboons and racoons.\",\n",
        "    },\n",
        "]\n",
        "\n",
        "stream = client.chat.completions.create(\n",
        "    model=model,\n",
        "    messages=messages,\n",
        "    stream=True,\n",
        ")"
      ]
    },
    {
      "cell_type": "code",
      "execution_count": null,
      "metadata": {
        "colab": {
          "base_uri": "https://localhost:8080/"
        },
        "id": "T8p3ZWX16Ghi",
        "outputId": "fdb3161e-130e-42b4-cccf-eed1a01e75d1"
      },
      "outputs": [
        {
          "name": "stdout",
          "output_type": "stream",
          "text": [
            " There once were two creatures quite fine,\n",
            "Baboons and raccoons, a curious combine,\n",
            "They raided the trash cans with glee,\n",
            "In the moon's silver shine,\n",
            "Together they dined, a messy entwine."
          ]
        }
      ],
      "source": [
        "for chunk in stream:\n",
        "    if chunk.choices[0].delta.content is not None:\n",
        "        print(chunk.choices[0].delta.content, end=\"\")"
      ]
    }
  ],
  "metadata": {
    "colab": {
      "authorship_tag": "ABX9TyNdcxuySwfdWAGr/X9gCBmn",
      "include_colab_link": true,
      "provenance": []
    },
    "kernelspec": {
      "display_name": "Python 3",
      "name": "python3"
    },
    "language_info": {
      "codemirror_mode": {
        "name": "ipython",
        "version": 3
      },
      "file_extension": ".py",
      "mimetype": "text/x-python",
      "name": "python",
      "nbconvert_exporter": "python",
      "pygments_lexer": "ipython3",
      "version": "3.11.7"
    }
  },
  "nbformat": 4,
  "nbformat_minor": 0
}
